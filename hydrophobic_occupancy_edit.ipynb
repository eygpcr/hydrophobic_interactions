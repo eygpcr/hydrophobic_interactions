{
  "cells": [
    {
      "cell_type": "markdown",
      "metadata": {
        "id": "view-in-github",
        "colab_type": "text"
      },
      "source": [
        "<a href=\"https://colab.research.google.com/github/eygpcr/hydrophobic_interactions/blob/main/hydrophobic_occupancy.ipynb\" target=\"_parent\">",
        "<img src=\"https://colab.research.google.com/assets/colab-badge.svg\" alt=\"Open In Colab\"/></a>"
      ]
    },
    {
      "cell_type": "markdown",
      "metadata": {
        "id": "introduction"
      },
      "source": [
        "# Hydrophobic Interaction Occupancy Calculation"
      ]
    },
    {
      "cell_type": "markdown",
      "metadata": {
        "id": "description"
      },
      "source": [
        "This notebook identifies hydrophobic interactions between ligand and receptor residues, ",
        "calculates their occupancy over the course of a molecular dynamics simulation, and ",
        "visualizes the results through a histogram."
      ]
    },
    {
      "cell_type": "code",
      "execution_count": null,
      "id": "original_code",
      "metadata": {},
      "outputs": [],
      "source": [
        "# Original code from the uploaded notebook"
      ]
    }
  ],
  "metadata": {
    "kernelspec": {
      "display_name": "Python 3",
      "language": "python",
      "name": "python3"
    },
    "language_info": {
      "codemirror_mode": {
        "name": "ipython",
        "version": 3
      },
      "file_extension": ".py",
      "mimetype": "text/x-python",
      "name": "python",
      "nbconvert_exporter": "python",
      "pygments_lexer": "ipython3",
      "version": "3.8.16"
    },
    "colab": {
      "provenance": [],
      "include_colab_link": true
    }
  },
  "nbformat": 4,
  "nbformat_minor": 0
}