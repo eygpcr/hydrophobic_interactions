{
  "cells": [
    {
      "cell_type": "markdown",
      "metadata": {
        "id": "view-in-github",
        "colab_type": "text"
      },
      "source": [
        "<a href=\"https://colab.research.google.com/github/eygpcr/hydrophobic_interactions/blob/main/hydrophobic_occupancy.ipynb\" target=\"_parent\"><img src=\"https://colab.research.google.com/assets/colab-badge.svg\" alt=\"Open In Colab\"/></a>"
      ]
    },
    {
      "cell_type": "markdown",
      "metadata": {
        "id": "introduction"
      },
      "source": [
        "# Calculating the Hydrophobic_occupancy"
      ]
    },
    {
      "cell_type": "markdown",
      "metadata": {
        "id": "description"
      },
      "source": [
        "This notebook calculates the **Hydrophobic occupancy calculation** for a specified residue in a protein trajectory using [MDAnalysis](https://www.mdanalysis.org/) and Python."
      ]
    },
    {
   "cell_type": "code",
   "execution_count": null,
   "id": "58e16424",
   "metadata": {},
   "outputs": [],
   "source": [
    "# Calculating the Hydrophobic_occupancy\n",
    "import MDAnalysis as mda\n",
    "import numpy as np\n",
    "import matplotlib.pyplot as plt\n",
    "from collections import Counter\n",
    "\n",
    "# Change these to match your GROMACS output files\n",
    "topology_file = \"you_topology_file.gro\"\n",
    "trajectory_file = \"your_trajectory_file.xtc\"\n",
    "\n",
    "# Change these to match your selection strings for GPCR and the ligand\n",
    "gpcr_selection = \"resid 1:last and not (name H* or type O)\"\n",
    "ligand_selection = \"resid 1:last\"\n",
    "\n",
    "# Load the GROMACS output files into MDAnalysis\n",
    "universe = mda.Universe(topology_file, trajectory_file)\n",
    "\n",
    "# Select the GPCR and ligand atoms\n",
    "gpcr_atoms = universe.select_atoms(gpcr_selection)\n",
    "ligand_atoms = universe.select_atoms(ligand_selection)\n",
    "\n",
    "# Calculate the hydrophobic interactions between GPCR and ligand\n",
    "cutoff_distance = 4.0  # Cutoff distance\n",
    "\n",
    "# Store all residue pairs interacting in each frame\n",
    "interacting_residue_pairs = []\n",
    "\n",
    "# Iterate through trajectory frames (up to 2000 frames)\n",
    "max_frames = 2000\n",
    "frames_to_process = min(max_frames, len(universe.trajectory))\n",
    "\n",
    "for frame in range(frames_to_process):\n",
    "    universe.trajectory[frame]\n",
    "\n",
    "    # Calculate distance matrix between GPCR and ligand atoms\n",
    "    distance_matrix = np.linalg.norm(gpcr_atoms.positions[:, np.newaxis] - ligand_atoms.positions, axis=2)\n",
    "\n",
    "    # Find the residue pairs with distances less than the cutoff\n",
    "    residue_pairs = np.argwhere(distance_matrix < cutoff_distance)\n",
    "\n",
    "    if residue_pairs.size > 0:\n",
    "        for pair in residue_pairs:\n",
    "            gpcr_residue = gpcr_atoms[pair[0]].resid\n",
    "            ligand_residue = ligand_atoms[pair[1]].resid\n",
    "            interacting_residue_pairs.append((gpcr_residue, ligand_residue))\n",
    "\n",
    "# Calculate the occupancy of hydrophobic interactions\n",
    "interaction_counts = Counter(interacting_residue_pairs)\n",
    "occupancy = {pair: (count / frames_to_process) * 100 for pair, count in interaction_counts.items()}\n",
    "\n",
    "# Sort residue pairs by occupancy in descending order\n",
    "sorted_occupancy = sorted(occupancy.values(), reverse=True)\n",
    "\n",
    "# Generate a histogram\n",
    "plt.hist(sorted_occupancy, bins=20, range=(0, 100), edgecolor='black')\n",
    "plt.xlabel(\"Hydrophobic Interaction Occupancy (%)\")\n",
    "plt.ylabel(\"Number of Residue Pairs\")\n",
    "plt.title(\"Hydrophobic Interaction Occupancy Distribution for 2000 Frames\")\n",
    "plt.tight_layout()\n",
    "plt.show()\n",
    "\n",
    "# Save results to a dat file\n",
    "with open(\"hydrophobic_occupancy.dat\", \"w\") as outfile:\n",
    "    outfile.write(\"Residue Pair (GPCR, Ligand)\\tOccupancy (%)\\n\")\n",
    "    for pair, occupancy_percentage in occupancy.items():\n",
    "        outfile.write(f\"{pair[0]}, {pair[1]}\\t{occupancy_percentage:.2f}\\n\")\n",
    "\n",
    "print(\"Results saved to hydrophobic_occupancy.dat.\")\n"
   ]
  }
 ],
 "metadata": {
  "kernelspec": {
   "display_name": "Python 3 (ipykernel)",
   "language": "python",
   "name": "python3"
  },
  "language_info": {
   "codemirror_mode": {
    "name": "ipython",
    "version": 3
   },
   "file_extension": ".py",
   "mimetype": "text/x-python",
   "name": "python",
   "nbconvert_exporter": "python",
   "pygments_lexer": "ipython3",
   "version": "3.8.16"
  }
 },
 "nbformat": 4,
 "nbformat_minor": 5
}
